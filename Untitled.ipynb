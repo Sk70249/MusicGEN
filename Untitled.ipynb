{
 "cells": [
  {
   "cell_type": "code",
   "execution_count": 1,
   "metadata": {},
   "outputs": [
    {
     "name": "stderr",
     "output_type": "stream",
     "text": [
      "The system cannot find the path specified.\n"
     ]
    }
   ],
   "source": [
    "import tensorflow as tf\n",
    "\n",
    "import majorproject as mdl\n",
    "\n",
    "# Import all remaining packages\n",
    "import numpy as np\n",
    "import os\n",
    "import time\n",
    "import functools\n",
    "from IPython import display as ipythondisplay\n",
    "from tqdm import tqdm\n",
    "!apt-get install abcmidi timidity > /dev/null 2>&1\n",
    "\n",
    "# Check that we are using a GPU, if not switch runtimes\n",
    "#   using Runtime > Change Runtime Type > GPU\n",
    "\n",
    "assert len(tf.config.experimental.list_physical_devices(device_type=None)) > 0"
   ]
  },
  {
   "cell_type": "code",
   "execution_count": null,
   "metadata": {},
   "outputs": [],
   "source": [
    "import os\n",
    "import regex as re\n",
    "import subprocess\n",
    "import urllib\n",
    "import numpy as np\n",
    "import tensorflow as tf\n",
    "\n",
    "from IPython.display import Audio\n",
    "\n",
    "\n",
    "cwd = os.path.dirname(__file__)\n",
    "\n",
    "def load_training_data():\n",
    "    with open(os.path.join(cwd, \"datastore\", \"irish.abc\"), \"r\") as f:\n",
    "        text = f.read()\n",
    "    songs = extract_song_snippet(text)\n",
    "    return songs\n",
    "\n",
    "def extract_song_snippet(text):\n",
    "    pattern = '(^|\\n\\n)(.*?)\\n\\n'\n",
    "    search_results = re.findall(pattern, text, overlapped=True, flags=re.DOTALL)\n",
    "    songs = [song[1] for song in search_results]\n",
    "    print(\"Found {} songs in text\".format(len(songs)))\n",
    "    return songs\n",
    "\n",
    "def save_song_to_abc(song, filename=\"tmp\"):\n",
    "    save_name = \"{}.abc\".format(filename)\n",
    "    with open(save_name, \"w\") as f:\n",
    "        f.write(song)\n",
    "    return filename\n",
    "\n",
    "def abc2wav(abc_file):\n",
    "    path_to_tool = os.path.join(cwd, 'bin', 'abc2wav')\n",
    "    cmd = \"{} {}\".format(path_to_tool, abc_file)\n",
    "    return os.system(cmd)\n",
    "\n",
    "def play_wav(wav_file):\n",
    "    return Audio(wav_file)\n",
    "\n",
    "def play_song(song):\n",
    "    basename = save_song_to_abc(song)\n",
    "    ret = abc2wav(basename+'.abc')\n",
    "    if ret == 0: #did not suceed\n",
    "        return play_wav(basename+'.wav')\n",
    "    return None\n",
    "\n",
    "def play_generated_song(generated_text):\n",
    "    songs = extract_song_snippet(generated_text)\n",
    "    if len(songs) == 0:\n",
    "        print(\"No valid songs found in generated text. Try training the \\\n",
    "            model longer or increasing the amount of generated music to \\\n",
    "            ensure complete songs are generated!\")\n",
    "\n",
    "    for song in songs:\n",
    "        play_song(song)\n",
    "    print(\"None of the songs were valid, try training longer to improve \\\n",
    "        syntax.\")\n",
    "\n",
    "def test_batch_func_types(func, args):\n",
    "    ret = func(*args)\n",
    "    assert len(ret) == 2, \"[FAIL] get_batch must return two arguments (input and label)\"\n",
    "    assert type(ret[0]) == np.ndarray, \"[FAIL] test_batch_func_types: x is not np.array\"\n",
    "    assert type(ret[1]) == np.ndarray, \"[FAIL] test_batch_func_types: y is not np.array\"\n",
    "    print(\"[PASS] test_batch_func_types\")\n",
    "    return True\n",
    "\n",
    "def test_batch_func_shapes(func, args):\n",
    "    dataset, seq_length, batch_size = args\n",
    "    x, y = func(*args)\n",
    "    correct = (batch_size, seq_length)\n",
    "    assert x.shape == correct, \"[FAIL] test_batch_func_shapes: x {} is not correct shape {}\".format(x.shape, correct)\n",
    "    assert y.shape == correct, \"[FAIL] test_batch_func_shapes: y {} is not correct shape {}\".format(y.shape, correct)\n",
    "    print(\"[PASS] test_batch_func_shapes\")\n",
    "    return True\n",
    "\n",
    "def test_batch_func_next_step(func, args):\n",
    "    x, y = func(*args)\n",
    "    assert (x[:,1:] == y[:,:-1]).all(), \"[FAIL] test_batch_func_next_step: x_{t} must equal y_{t-1} for all t\"\n",
    "    print(\"[PASS] test_batch_func_next_step\")\n",
    "    return True\n",
    "\n",
    "def test_custom_dense_layer_output(y):\n",
    "    true_y = np.array([[0.2697859,  0.45750418, 0.66536945]],dtype='float32')\n",
    "    assert tf.shape(y).numpy().tolist() == list(true_y.shape), \"[FAIL] output is of incorrect shape. expected {} but got {}\".format(true_y.shape, y.numpy().shape)\n",
    "    np.testing.assert_almost_equal(y.numpy(), true_y, decimal=7, err_msg=\"[FAIL] output is of incorrect value. expected {} but got {}\".format(y.numpy(), true_y), verbose=True)\n",
    "    print(\"[PASS] test_custom_dense_layer_output\")\n",
    "    return True\n"
   ]
  },
  {
   "cell_type": "code",
   "execution_count": 6,
   "metadata": {},
   "outputs": [
    {
     "name": "stdout",
     "output_type": "stream",
     "text": [
      "Found 817 songs in text\n",
      "\n",
      "Example song: \n",
      "X:1\n",
      "T:Alexander's\n",
      "Z: id:dc-hornpipe-1\n",
      "M:C|\n",
      "L:1/8\n",
      "K:D Major\n",
      "(3ABc|dAFA DFAd|fdcd FAdf|gfge fefd|(3efe (3dcB A2 (3ABc|!\n",
      "dAFA DFAd|fdcd FAdf|gfge fefd|(3efe dc d2:|!\n",
      "AG|FAdA FAdA|GBdB GBdB|Acec Acec|dfaf gecA|!\n",
      "FAdA FAdA|GBdB GBdB|Aceg fefd|(3efe dc d2:|!\n"
     ]
    }
   ],
   "source": [
    "# Download the dataset\n",
    "songs = mdl.music.load_training_data()\n",
    "\n",
    "# Print one of the songs to inspect it in greater detail!\n",
    "example_song = songs[0]\n",
    "print(\"\\nExample song: \")\n",
    "print(example_song)"
   ]
  },
  {
   "cell_type": "code",
   "execution_count": null,
   "metadata": {},
   "outputs": [],
   "source": []
  },
  {
   "cell_type": "code",
   "execution_count": null,
   "metadata": {},
   "outputs": [],
   "source": []
  },
  {
   "cell_type": "code",
   "execution_count": null,
   "metadata": {},
   "outputs": [],
   "source": []
  },
  {
   "cell_type": "code",
   "execution_count": null,
   "metadata": {},
   "outputs": [],
   "source": []
  },
  {
   "cell_type": "code",
   "execution_count": null,
   "metadata": {},
   "outputs": [],
   "source": []
  }
 ],
 "metadata": {
  "kernelspec": {
   "display_name": "Python 3",
   "language": "python",
   "name": "python3"
  },
  "language_info": {
   "codemirror_mode": {
    "name": "ipython",
    "version": 3
   },
   "file_extension": ".py",
   "mimetype": "text/x-python",
   "name": "python",
   "nbconvert_exporter": "python",
   "pygments_lexer": "ipython3",
   "version": "3.7.4"
  }
 },
 "nbformat": 4,
 "nbformat_minor": 2
}
